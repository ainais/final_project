{
 "cells": [
  {
   "cell_type": "code",
   "execution_count": 1,
   "metadata": {},
   "outputs": [],
   "source": [
    "import pytesseract"
   ]
  },
  {
   "cell_type": "code",
   "execution_count": 2,
   "metadata": {},
   "outputs": [],
   "source": []
  },
  {
   "cell_type": "code",
   "execution_count": 4,
   "metadata": {
    "scrolled": true
   },
   "outputs": [
    {
     "name": "stdout",
     "output_type": "stream",
     "text": [
      " \n",
      "\n",
      "~\n",
      "\n",
      "NATURAL\n",
      "AFA woos         We\n",
      "\n",
      "NMSA 2 BONE COOL\n",
      "‘TEL, 070,1234.5789,\n",
      "\n",
      "OPEN. AM 10:09\n",
      "\n",
      "CLOSE. PM 21:00\n",
      "\n",
      " \n",
      "\n",
      " \n",
      "\f",
      "\n"
     ]
    }
   ],
   "source": []
  },
  {
   "cell_type": "code",
   "execution_count": 5,
   "metadata": {},
   "outputs": [
    {
     "name": "stdout",
     "output_type": "stream",
     "text": [
      " 56014 _ㄷ666\n",
      "\n",
      "지붕판금 / ㄴ6.5 / -6700 / 판넬\n",
      "\n",
      "팀장 김    호 4.010-  -2838\n",
      "\n",
      " \n",
      "\n",
      "[08617] MB SAF SAS 1035-24\n",
      "\n",
      "T. 02-2611-1144 F. 02-2611-1181\n",
      "M. seo622@hanmail.net\n",
      "\f",
      "\n"
     ]
    }
   ],
   "source": [
    "print(pytesseract.image_to_string('C:\\Temp\\sample1.png',lang='kor+eng',config='-c preserve_interword_spaces=1 --psm 4'))"
   ]
  }
 ],
 "metadata": {
  "kernelspec": {
   "display_name": "Python 3",
   "language": "python",
   "name": "python3"
  },
  "language_info": {
   "codemirror_mode": {
    "name": "ipython",
    "version": 3
   },
   "file_extension": ".py",
   "mimetype": "text/x-python",
   "name": "python",
   "nbconvert_exporter": "python",
   "pygments_lexer": "ipython3",
   "version": "3.8.5"
  }
 },
 "nbformat": 4,
 "nbformat_minor": 4
}
