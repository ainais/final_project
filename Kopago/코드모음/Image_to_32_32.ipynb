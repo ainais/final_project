{
 "cells": [
  {
   "cell_type": "code",
   "execution_count": 1,
   "metadata": {},
   "outputs": [],
   "source": [
    "import numpy as np\n",
    "from PIL import Image\n",
    "import os,glob,random"
   ]
  },
  {
   "cell_type": "code",
   "execution_count": 3,
   "metadata": {},
   "outputs": [
    {
     "name": "stdout",
     "output_type": "stream",
     "text": [
      "저장했습니다.:image/photos.npz 32400\n"
     ]
    }
   ],
   "source": [
    "outfile='./photo.npz'\n",
    "max_photo=10800 #사용할 사진수\n",
    "photo_size=32\n",
    "\n",
    "x=[]\n",
    "y=[]\n",
    "\n",
    "def main():\n",
    "    glob_files('./image/crack',0)\n",
    "    glob_files('./image/porosity',1)\n",
    "    glob_files('./image/hole',2)\n",
    "    np.savez(outfile,x=x,y=y)\n",
    "    print(\"저장했습니다.:\"+outfile,len(x))\n",
    "    \n",
    "def glob_files(path,label):\n",
    "    files=glob.glob(path+'/*.jpg')\n",
    "    random.shuffle(files)\n",
    "    \n",
    "    num=0\n",
    "    for f in files:\n",
    "        if num>=max_photo:break\n",
    "        num += 1\n",
    "        img=Image.open(f)\n",
    "        img=img.convert('RGB')\n",
    "        img=img.resize((photo_size,photo_size))\n",
    "        img=np.asarray(img)\n",
    "        x.append(img)\n",
    "        y.append(label)\n",
    "        \n",
    "if __name__=='__main__':\n",
    "    main()"
   ]
  }
 ],
 "metadata": {
  "kernelspec": {
   "display_name": "Python 3",
   "language": "python",
   "name": "python3"
  },
  "language_info": {
   "codemirror_mode": {
    "name": "ipython",
    "version": 3
   },
   "file_extension": ".py",
   "mimetype": "text/x-python",
   "name": "python",
   "nbconvert_exporter": "python",
   "pygments_lexer": "ipython3",
   "version": "3.8.5"
  }
 },
 "nbformat": 4,
 "nbformat_minor": 2
}
