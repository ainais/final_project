{
 "cells": [
  {
   "cell_type": "code",
   "execution_count": 1,
   "metadata": {},
   "outputs": [
    {
     "name": "stdout",
     "output_type": "stream",
     "text": [
      "텍스트를 입력해주세요 => hello guys my name is ray\n"
     ]
    }
   ],
   "source": [
    "# hello guys my name is ray\n",
    "text = input(\"텍스트를 입력해주세요 => \")"
   ]
  },
  {
   "cell_type": "code",
   "execution_count": 2,
   "metadata": {},
   "outputs": [
    {
     "name": "stdout",
     "output_type": "stream",
     "text": [
      "['hello', 'guys', 'my', 'name', 'is', 'ray']\n"
     ]
    }
   ],
   "source": [
    "textList = text.split(' ')\n",
    "print(textList)"
   ]
  },
  {
   "cell_type": "code",
   "execution_count": 3,
   "metadata": {},
   "outputs": [],
   "source": [
    "# 크롤링 라이브러리 임포트\n",
    "from selenium import webdriver\n",
    "from bs4 import BeautifulSoup\n",
    "from time import sleep"
   ]
  },
  {
   "cell_type": "code",
   "execution_count": 5,
   "metadata": {},
   "outputs": [],
   "source": [
    "driver = webdriver.Chrome('./webdriver/chromedriver.exe')\n",
    "driver.implicitly_wait(2)\n",
    "\n",
    "driver.get('https://papago.naver.com/')"
   ]
  },
  {
   "cell_type": "code",
   "execution_count": 8,
   "metadata": {},
   "outputs": [
    {
     "name": "stdout",
     "output_type": "stream",
     "text": [
      "안녕 얘들아 내 이름은 레이야\n"
     ]
    }
   ],
   "source": [
    "inputWord = driver.find_element_by_name('txtSource')\n",
    "inputWord.clear()\n",
    "inputWord.send_keys(text)\n",
    "sleep(2)\n",
    "\n",
    "html = driver.page_source\n",
    "soup = BeautifulSoup(html,'html.parser')\n",
    "meaning = soup.select('#txtTarget span')\n",
    "answer = meaning[0].text\n",
    "print(answer)"
   ]
  },
  {
   "cell_type": "code",
   "execution_count": 9,
   "metadata": {},
   "outputs": [
    {
     "name": "stdout",
     "output_type": "stream",
     "text": [
      "안녕\n",
      "여러분.\n",
      "나의\n",
      "이름을 짓다\n",
      "이다\n",
      "ray\n"
     ]
    }
   ],
   "source": [
    "wordList = []\n",
    "for word in textList:\n",
    "    inputWord = driver.find_element_by_name('txtSource')\n",
    "    inputWord.clear()\n",
    "    inputWord.send_keys(word)\n",
    "    sleep(2)\n",
    "    \n",
    "    html = driver.page_source\n",
    "    soup = BeautifulSoup(html,'html.parser')\n",
    "    meaning = soup.select('#txtTarget span')\n",
    "    print(meaning[0].text)\n",
    "    wordList.append(meaning[0].text)"
   ]
  }
 ],
 "metadata": {
  "kernelspec": {
   "display_name": "Python 3",
   "language": "python",
   "name": "python3"
  },
  "language_info": {
   "codemirror_mode": {
    "name": "ipython",
    "version": 3
   },
   "file_extension": ".py",
   "mimetype": "text/x-python",
   "name": "python",
   "nbconvert_exporter": "python",
   "pygments_lexer": "ipython3",
   "version": "3.8.5"
  }
 },
 "nbformat": 4,
 "nbformat_minor": 4
}
