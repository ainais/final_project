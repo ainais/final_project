{
 "cells": [
  {
   "cell_type": "code",
   "execution_count": 7,
   "metadata": {},
   "outputs": [],
   "source": [
    "import pytesseract\n",
    "def imageImport(address):\n",
    "    pytesseract.pytesseract.tesseract_cmd = r'C:\\Program Files\\Tesseract-OCR\\tesseract'\n",
    "    result = pytesseract.image_to_string(address,lang='kor+eng',config='-c preserve_interword_spaces=1 --psm 4')\n",
    "    return result"
   ]
  },
  {
   "cell_type": "code",
   "execution_count": 18,
   "metadata": {},
   "outputs": [
    {
     "data": {
      "text/plain": [
       "['C:\\\\Users\\\\kou81\\\\Desktop\\\\인공지능구축',\n",
       " 'C:\\\\Users\\\\kou81\\\\anaconda3\\\\python38.zip',\n",
       " 'C:\\\\Users\\\\kou81\\\\anaconda3\\\\DLLs',\n",
       " 'C:\\\\Users\\\\kou81\\\\anaconda3\\\\lib',\n",
       " 'C:\\\\Users\\\\kou81\\\\anaconda3',\n",
       " '',\n",
       " 'C:\\\\Users\\\\kou81\\\\anaconda3\\\\lib\\\\site-packages',\n",
       " 'C:\\\\Users\\\\kou81\\\\anaconda3\\\\lib\\\\site-packages\\\\win32',\n",
       " 'C:\\\\Users\\\\kou81\\\\anaconda3\\\\lib\\\\site-packages\\\\win32\\\\lib',\n",
       " 'C:\\\\Users\\\\kou81\\\\anaconda3\\\\lib\\\\site-packages\\\\Pythonwin',\n",
       " 'C:\\\\Users\\\\kou81\\\\anaconda3\\\\lib\\\\site-packages\\\\IPython\\\\extensions',\n",
       " 'C:\\\\Users\\\\kou81\\\\.ipython']"
      ]
     },
     "execution_count": 18,
     "metadata": {},
     "output_type": "execute_result"
    }
   ],
   "source": [
    "import sys\n",
    "import sys.path.append('C:\\Users\\kou81\\anaconda3\\lib\\site-packages\\pytesseract')\n",
    "'C:\\\\Users\\\\kou81\\\\anaconda3\\\\lib\\\\site-packages'\n",
    "\n"
   ]
  },
  {
   "cell_type": "code",
   "execution_count": 19,
   "metadata": {},
   "outputs": [
    {
     "data": {
      "text/plain": [
       "['C:\\\\Users\\\\kou81\\\\Desktop\\\\인공지능구축',\n",
       " 'C:\\\\Users\\\\kou81\\\\anaconda3\\\\python38.zip',\n",
       " 'C:\\\\Users\\\\kou81\\\\anaconda3\\\\DLLs',\n",
       " 'C:\\\\Users\\\\kou81\\\\anaconda3\\\\lib',\n",
       " 'C:\\\\Users\\\\kou81\\\\anaconda3',\n",
       " '',\n",
       " 'C:\\\\Users\\\\kou81\\\\anaconda3\\\\lib\\\\site-packages',\n",
       " 'C:\\\\Users\\\\kou81\\\\anaconda3\\\\lib\\\\site-packages\\\\win32',\n",
       " 'C:\\\\Users\\\\kou81\\\\anaconda3\\\\lib\\\\site-packages\\\\win32\\\\lib',\n",
       " 'C:\\\\Users\\\\kou81\\\\anaconda3\\\\lib\\\\site-packages\\\\Pythonwin',\n",
       " 'C:\\\\Users\\\\kou81\\\\anaconda3\\\\lib\\\\site-packages\\\\IPython\\\\extensions',\n",
       " 'C:\\\\Users\\\\kou81\\\\.ipython']"
      ]
     },
     "execution_count": 19,
     "metadata": {},
     "output_type": "execute_result"
    }
   ],
   "source": [
    "sys.path"
   ]
  },
  {
   "cell_type": "code",
   "execution_count": null,
   "metadata": {},
   "outputs": [],
   "source": []
  }
 ],
 "metadata": {
  "kernelspec": {
   "display_name": "Python 3",
   "language": "python",
   "name": "python3"
  },
  "language_info": {
   "codemirror_mode": {
    "name": "ipython",
    "version": 3
   },
   "file_extension": ".py",
   "mimetype": "text/x-python",
   "name": "python",
   "nbconvert_exporter": "python",
   "pygments_lexer": "ipython3",
   "version": "3.8.5"
  }
 },
 "nbformat": 4,
 "nbformat_minor": 4
}
