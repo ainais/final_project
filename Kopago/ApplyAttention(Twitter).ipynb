{
 "cells": [
  {
   "cell_type": "code",
   "execution_count": 1,
   "metadata": {},
   "outputs": [
    {
     "name": "stderr",
     "output_type": "stream",
     "text": [
      "[nltk_data] Downloading package punkt to\n",
      "[nltk_data]     C:\\Users\\kou81\\AppData\\Roaming\\nltk_data...\n",
      "[nltk_data]   Package punkt is already up-to-date!\n"
     ]
    }
   ],
   "source": [
    "import pandas as pd\n",
    "df = pd.read_excel(\"conversation.xlsx\")\n",
    "df = df[df['대분류'] == '비즈니스']\n",
    "df = df[df['소분류']=='회의']\n",
    "df = df[df['상황'] == '의견 교환하기']\n",
    "\n",
    "import nltk\n",
    "nltk.download('punkt')\n",
    "from nltk.tokenize import word_tokenize, sent_tokenize"
   ]
  },
  {
   "cell_type": "code",
   "execution_count": 123,
   "metadata": {
    "scrolled": true
   },
   "outputs": [
    {
     "data": {
      "text/html": [
       "<div>\n",
       "<style scoped>\n",
       "    .dataframe tbody tr th:only-of-type {\n",
       "        vertical-align: middle;\n",
       "    }\n",
       "\n",
       "    .dataframe tbody tr th {\n",
       "        vertical-align: top;\n",
       "    }\n",
       "\n",
       "    .dataframe thead th {\n",
       "        text-align: right;\n",
       "    }\n",
       "</style>\n",
       "<table border=\"1\" class=\"dataframe\">\n",
       "  <thead>\n",
       "    <tr style=\"text-align: right;\">\n",
       "      <th></th>\n",
       "      <th>대분류</th>\n",
       "      <th>소분류</th>\n",
       "      <th>상황</th>\n",
       "      <th>Set Nr.</th>\n",
       "      <th>발화자</th>\n",
       "      <th>원문</th>\n",
       "      <th>번역문</th>\n",
       "    </tr>\n",
       "  </thead>\n",
       "  <tbody>\n",
       "    <tr>\n",
       "      <th>0</th>\n",
       "      <td>비즈니스</td>\n",
       "      <td>회의</td>\n",
       "      <td>의견 교환하기</td>\n",
       "      <td>1</td>\n",
       "      <td>A-1</td>\n",
       "      <td>이번 신제품 출시에 대한 시장의 반응은 어떤가요?</td>\n",
       "      <td>How is the market's reaction to the newly rele...</td>\n",
       "    </tr>\n",
       "    <tr>\n",
       "      <th>1</th>\n",
       "      <td>비즈니스</td>\n",
       "      <td>회의</td>\n",
       "      <td>의견 교환하기</td>\n",
       "      <td>1</td>\n",
       "      <td>B-1</td>\n",
       "      <td>판매량이 지난번 제품보다 빠르게 늘고 있습니다.</td>\n",
       "      <td>The sales increase is faster than the previous...</td>\n",
       "    </tr>\n",
       "    <tr>\n",
       "      <th>2</th>\n",
       "      <td>비즈니스</td>\n",
       "      <td>회의</td>\n",
       "      <td>의견 교환하기</td>\n",
       "      <td>1</td>\n",
       "      <td>A-2</td>\n",
       "      <td>그렇다면 공장에 연락해서 주문량을 더 늘려야겠네요.</td>\n",
       "      <td>Then, we'll have to call the manufacturer and ...</td>\n",
       "    </tr>\n",
       "    <tr>\n",
       "      <th>3</th>\n",
       "      <td>비즈니스</td>\n",
       "      <td>회의</td>\n",
       "      <td>의견 교환하기</td>\n",
       "      <td>1</td>\n",
       "      <td>B-2</td>\n",
       "      <td>네, 제가 연락해서 주문량을 2배로 늘리겠습니다.</td>\n",
       "      <td>Sure, I'll make a call and double the volume o...</td>\n",
       "    </tr>\n",
       "    <tr>\n",
       "      <th>4</th>\n",
       "      <td>비즈니스</td>\n",
       "      <td>회의</td>\n",
       "      <td>의견 교환하기</td>\n",
       "      <td>2</td>\n",
       "      <td>A-1</td>\n",
       "      <td>지난 회의 마지막에 논의했던 안건을 다시 볼까요?</td>\n",
       "      <td>Shall we take a look at the issues we discusse...</td>\n",
       "    </tr>\n",
       "    <tr>\n",
       "      <th>...</th>\n",
       "      <td>...</td>\n",
       "      <td>...</td>\n",
       "      <td>...</td>\n",
       "      <td>...</td>\n",
       "      <td>...</td>\n",
       "      <td>...</td>\n",
       "      <td>...</td>\n",
       "    </tr>\n",
       "    <tr>\n",
       "      <th>83031</th>\n",
       "      <td>비즈니스</td>\n",
       "      <td>회의</td>\n",
       "      <td>의견 교환하기</td>\n",
       "      <td>20758</td>\n",
       "      <td>B-2</td>\n",
       "      <td>그 분야에 대해서는 저도 조금 아는 부분이 있으니 제가 함께 준비하겠습니다.</td>\n",
       "      <td>I also know a little bit about that area so I'...</td>\n",
       "    </tr>\n",
       "    <tr>\n",
       "      <th>83032</th>\n",
       "      <td>비즈니스</td>\n",
       "      <td>회의</td>\n",
       "      <td>의견 교환하기</td>\n",
       "      <td>20759</td>\n",
       "      <td>A-1</td>\n",
       "      <td>홍콩 파트너가 업무 협조를 너무 안 해주는데, 다른 업체로 바꾸는 게 어때요?</td>\n",
       "      <td>Our Hong Kong partners are not cooperating at ...</td>\n",
       "    </tr>\n",
       "    <tr>\n",
       "      <th>83033</th>\n",
       "      <td>비즈니스</td>\n",
       "      <td>회의</td>\n",
       "      <td>의견 교환하기</td>\n",
       "      <td>20759</td>\n",
       "      <td>B-1</td>\n",
       "      <td>박람회에서 만난 홍콩 업체 명함이 있긴 한데, 신규 업체라는 점이 신경 쓰여요.</td>\n",
       "      <td>I have a business card from another firm in Ho...</td>\n",
       "    </tr>\n",
       "    <tr>\n",
       "      <th>83034</th>\n",
       "      <td>비즈니스</td>\n",
       "      <td>회의</td>\n",
       "      <td>의견 교환하기</td>\n",
       "      <td>20759</td>\n",
       "      <td>A-2</td>\n",
       "      <td>오히려 신규 업체일수록 더 적극적으로 업무에 협조해 줄 수 있어요, 우선 그 업체에...</td>\n",
       "      <td>On the contrary, the new companies can be more...</td>\n",
       "    </tr>\n",
       "    <tr>\n",
       "      <th>83035</th>\n",
       "      <td>비즈니스</td>\n",
       "      <td>회의</td>\n",
       "      <td>의견 교환하기</td>\n",
       "      <td>20759</td>\n",
       "      <td>B-2</td>\n",
       "      <td>갑자기 전화하면 그쪽에서 당황스러울 수 있으니 메일을 먼저 보내는 게 낫겠어요.</td>\n",
       "      <td>You'd better send an e-mail first because it m...</td>\n",
       "    </tr>\n",
       "  </tbody>\n",
       "</table>\n",
       "<p>1016 rows × 7 columns</p>\n",
       "</div>"
      ],
      "text/plain": [
       "        대분류 소분류       상황  Set Nr.  발화자  \\\n",
       "0      비즈니스  회의  의견 교환하기        1  A-1   \n",
       "1      비즈니스  회의  의견 교환하기        1  B-1   \n",
       "2      비즈니스  회의  의견 교환하기        1  A-2   \n",
       "3      비즈니스  회의  의견 교환하기        1  B-2   \n",
       "4      비즈니스  회의  의견 교환하기        2  A-1   \n",
       "...     ...  ..      ...      ...  ...   \n",
       "83031  비즈니스  회의  의견 교환하기    20758  B-2   \n",
       "83032  비즈니스  회의  의견 교환하기    20759  A-1   \n",
       "83033  비즈니스  회의  의견 교환하기    20759  B-1   \n",
       "83034  비즈니스  회의  의견 교환하기    20759  A-2   \n",
       "83035  비즈니스  회의  의견 교환하기    20759  B-2   \n",
       "\n",
       "                                                      원문  \\\n",
       "0                            이번 신제품 출시에 대한 시장의 반응은 어떤가요?   \n",
       "1                             판매량이 지난번 제품보다 빠르게 늘고 있습니다.   \n",
       "2                           그렇다면 공장에 연락해서 주문량을 더 늘려야겠네요.   \n",
       "3                            네, 제가 연락해서 주문량을 2배로 늘리겠습니다.   \n",
       "4                            지난 회의 마지막에 논의했던 안건을 다시 볼까요?   \n",
       "...                                                  ...   \n",
       "83031         그 분야에 대해서는 저도 조금 아는 부분이 있으니 제가 함께 준비하겠습니다.   \n",
       "83032        홍콩 파트너가 업무 협조를 너무 안 해주는데, 다른 업체로 바꾸는 게 어때요?   \n",
       "83033       박람회에서 만난 홍콩 업체 명함이 있긴 한데, 신규 업체라는 점이 신경 쓰여요.   \n",
       "83034  오히려 신규 업체일수록 더 적극적으로 업무에 협조해 줄 수 있어요, 우선 그 업체에...   \n",
       "83035       갑자기 전화하면 그쪽에서 당황스러울 수 있으니 메일을 먼저 보내는 게 낫겠어요.   \n",
       "\n",
       "                                                     번역문  \n",
       "0      How is the market's reaction to the newly rele...  \n",
       "1      The sales increase is faster than the previous...  \n",
       "2      Then, we'll have to call the manufacturer and ...  \n",
       "3      Sure, I'll make a call and double the volume o...  \n",
       "4      Shall we take a look at the issues we discusse...  \n",
       "...                                                  ...  \n",
       "83031  I also know a little bit about that area so I'...  \n",
       "83032  Our Hong Kong partners are not cooperating at ...  \n",
       "83033  I have a business card from another firm in Ho...  \n",
       "83034  On the contrary, the new companies can be more...  \n",
       "83035  You'd better send an e-mail first because it m...  \n",
       "\n",
       "[1016 rows x 7 columns]"
      ]
     },
     "execution_count": 123,
     "metadata": {},
     "output_type": "execute_result"
    }
   ],
   "source": [
    "df"
   ]
  },
  {
   "cell_type": "code",
   "execution_count": 11,
   "metadata": {},
   "outputs": [],
   "source": [
    "#inputText = \"How is the market's reaction to the newly released product?\""
   ]
  },
  {
   "cell_type": "code",
   "execution_count": 132,
   "metadata": {},
   "outputs": [],
   "source": [
    "inputText = df['번역문'][0]"
   ]
  },
  {
   "cell_type": "code",
   "execution_count": 23,
   "metadata": {},
   "outputs": [
    {
     "name": "stderr",
     "output_type": "stream",
     "text": [
      "[nltk_data] Downloading package averaged_perceptron_tagger to\n",
      "[nltk_data]     C:\\Users\\kou81\\AppData\\Roaming\\nltk_data...\n",
      "[nltk_data]   Package averaged_perceptron_tagger is already up-to-\n",
      "[nltk_data]       date!\n"
     ]
    },
    {
     "data": {
      "text/plain": [
       "True"
      ]
     },
     "execution_count": 23,
     "metadata": {},
     "output_type": "execute_result"
    }
   ],
   "source": [
    "import nltk\n",
    "nltk.download('averaged_perceptron_tagger')"
   ]
  },
  {
   "cell_type": "code",
   "execution_count": 133,
   "metadata": {},
   "outputs": [
    {
     "name": "stdout",
     "output_type": "stream",
     "text": [
      "[('How', 'WRB'), ('is', 'VBZ'), ('the', 'DT'), ('market', 'NN'), (\"'s\", 'POS'), ('reaction', 'NN'), ('to', 'TO'), ('the', 'DT'), ('newly', 'RB'), ('released', 'VBN'), ('product', 'NN'), ('?', '.')]\n"
     ]
    }
   ],
   "source": [
    "words = nltk.tokenize.word_tokenize(inputText)\n",
    "word_tag = nltk.tag.pos_tag(words)\n",
    "print(word_tag)"
   ]
  },
  {
   "cell_type": "code",
   "execution_count": 127,
   "metadata": {},
   "outputs": [],
   "source": [
    "# 크롤링 라이브러리 임포트\n",
    "from selenium import webdriver\n",
    "from bs4 import BeautifulSoup\n",
    "from time import sleep\n",
    "\n",
    "driver = webdriver.Chrome('./webdriver/chromedriver.exe')\n",
    "driver.implicitly_wait(2)\n",
    "\n",
    "driver.get('https://papago.naver.com/')"
   ]
  },
  {
   "cell_type": "code",
   "execution_count": 135,
   "metadata": {},
   "outputs": [
    {
     "name": "stdout",
     "output_type": "stream",
     "text": [
      "새로 출시된 제품에 대한 시장의 반응은 어떻습니까?\n"
     ]
    }
   ],
   "source": [
    "# 정답데이터\n",
    "inputWord = driver.find_element_by_name('txtSource')\n",
    "inputWord.clear()\n",
    "inputWord.send_keys(inputText)\n",
    "sleep(2)\n",
    "\n",
    "html = driver.page_source\n",
    "soup = BeautifulSoup(html,'html.parser')\n",
    "meaning = soup.select('#txtTarget span')\n",
    "answer = meaning[0].text\n",
    "print(answer)"
   ]
  },
  {
   "cell_type": "code",
   "execution_count": 129,
   "metadata": {},
   "outputs": [],
   "source": [
    "# ()안에 있는 내용 삭제하고 ,(comma)가 있을 경우 첫 번째 값만 가져오도록 함수 정의\n",
    "def seperateValue(word):\n",
    "    print(\"입력된 문자 ==>\" + word)\n",
    "    word.replace(\" \",\"\") # 공백 제거\n",
    "    \n",
    "    tempList = word.split(\")\")\n",
    "    word = \"\"\n",
    "    for tempWord in tempList:\n",
    "        word += tempWord\n",
    "    \n",
    "    tempList = word.split(\"(\")\n",
    "    word = \"\"\n",
    "    for tempWord in tempList:\n",
    "        if \"→\" not in tempWord:\n",
    "            word += tempWord\n",
    "    \n",
    "    tempList = word.split(\",\")\n",
    "    word = \"\"\n",
    "    cnt = 0\n",
    "    for tempWord in tempList:\n",
    "        if cnt == 0:\n",
    "            word += tempWord\n",
    "            cnt = cnt + 1\n",
    "    return word.replace(\" \",\"\")\n",
    "\n",
    "#seperateValue(\"(일반적인) 시장[장] (→farmers’ market)\")"
   ]
  },
  {
   "cell_type": "code",
   "execution_count": 136,
   "metadata": {
    "scrolled": false
   },
   "outputs": [
    {
     "name": "stdout",
     "output_type": "stream",
     "text": [
      "How WRB\n",
      "How\n",
      "어떻게\n",
      "==============================\n",
      "is VBZ\n",
      "is\n",
      "이다\n",
      "==============================\n",
      "the DT\n",
      "the\n",
      "그\n",
      "==============================\n",
      "market NN\n",
      "market\n",
      "명사\n",
      "입력된 문자 ==>(일반적인) 시장[장] (→farmers’ market)\n",
      "(일반적인) 시장[장] (→farmers’ market)\n",
      "==============================\n",
      "'s POS\n",
      "'s\n",
      "의\n",
      "==============================\n",
      "reaction NN\n",
      "reaction\n",
      "명사\n",
      "입력된 문자 ==>반응, 반작용\n",
      "반응, 반작용\n",
      "==============================\n",
      "to TO\n",
      "to\n",
      "에\n",
      "==============================\n",
      "the DT\n",
      "the\n",
      "그\n",
      "==============================\n",
      "newly RB\n",
      "newly\n",
      "새로\n",
      "==============================\n",
      "released VBN\n",
      "released\n",
      "방출된\n",
      "==============================\n",
      "product NN\n",
      "product\n",
      "명사\n",
      "입력된 문자 ==>생산물, 상품, 제품 (→end product, gross national product)\n",
      "생산물, 상품, 제품 (→end product, gross national product)\n",
      "==============================\n",
      "? .\n",
      "?\n",
      "마지막 word에 대한 Check ==>어떻게 이다\n",
      "그 일반적인시장[장] 의 반응 그 새로 방출된 생산물 에 대한  어떻게 됩니까?\n"
     ]
    }
   ],
   "source": [
    "wordResult = \"\"\n",
    "tempText = \"\"\n",
    "lastResult = \"\"\n",
    "for word,pos in word_tag:\n",
    "    print(word + \" \"+pos)\n",
    "    # 입력 부분\n",
    "    inputWord = driver.find_element_by_name('txtSource')\n",
    "    inputWord.clear()\n",
    "    inputWord.send_keys(word)\n",
    "    print(word)\n",
    "    if(word == '?'):\n",
    "        print(\"마지막 word에 대한 Check ==>\" + lastResult)\n",
    "        lastResult = lastResult.strip()\n",
    "        lastResult = lastResult.replace(\"이다\",\"됩니까?\")\n",
    "        continue\n",
    "    if(word == '.'):\n",
    "        continue\n",
    "    sleep(2)\n",
    "    \n",
    "    html = driver.page_source\n",
    "    soup = BeautifulSoup(html,'html.parser')\n",
    "    \n",
    "    if(pos == \"NN\"):\n",
    "        meaning = soup.select('dd.dictionary_mean_box___26PlC strong.wordclass___m5RTy span')\n",
    "        print(meaning[0].text)\n",
    "        \n",
    "        if(meaning[0].text == '명사'):\n",
    "            meaning = soup.select('dd.dictionary_mean_box___26PlC span.dictionary_mean_text___30A6h')\n",
    "            wordResult += seperateValue(meaning[0].text) + \" \"\n",
    "            print(meaning[0].text)\n",
    "        else:\n",
    "            print(meaning[1].text)\n",
    "        if tempText != \"\":\n",
    "            wordResult += tempText\n",
    "            tempText = \"\"\n",
    "        print(\"==============================\")\n",
    "        \n",
    "    # How 등 육하원칙의 동사에 대한 정의\n",
    "    elif(pos == \"WRB\"):\n",
    "        meaning = soup.select('#txtTarget span')\n",
    "        print(meaning[0].text)\n",
    "        lastResult += meaning[0].text + \" \"\n",
    "        print(\"==============================\")\n",
    "        \n",
    "    # 비동사에 대한 처리\n",
    "    elif(pos == \"VBZ\"):\n",
    "        meaning = soup.select('#txtTarget span')\n",
    "        print(meaning[0].text)\n",
    "        if(meaning[0].text == '이다'):\n",
    "            lastResult += meaning[0].text\n",
    "        print(\"==============================\")\n",
    "        \n",
    "    # to에 대한 처리\n",
    "    elif(pos == \"TO\"):\n",
    "        meaning = soup.select('#txtTarget span')\n",
    "        print(meaning[0].text)\n",
    "        tempText += meaning[0].text + \" 대한 \"\n",
    "        print(\"==============================\")\n",
    "        \n",
    "    else:\n",
    "        meaning = soup.select('#txtTarget span')\n",
    "        print(meaning[0].text)\n",
    "        wordResult += meaning[0].text + \" \"\n",
    "        print(\"==============================\")\n",
    "        \n",
    "print(wordResult+\" \"+lastResult)"
   ]
  },
  {
   "cell_type": "code",
   "execution_count": 42,
   "metadata": {},
   "outputs": [],
   "source": [
    "from gensim.models import word2vec\n",
    "model = word2vec.Word2Vec.load('./wiki/wiki.model')"
   ]
  },
  {
   "cell_type": "code",
   "execution_count": 44,
   "metadata": {},
   "outputs": [
    {
     "data": {
      "text/plain": [
       "[('Why', 0.8973870873451233),\n",
       " ('Does', 0.8674536943435669),\n",
       " ('They', 0.8647955060005188),\n",
       " ('will', 0.8571343421936035),\n",
       " ('your', 0.8469832539558411),\n",
       " ('like', 0.8461585640907288),\n",
       " ('there', 0.8440003395080566),\n",
       " ('what', 0.8398547768592834),\n",
       " ('Then', 0.8386229276657104),\n",
       " ('When', 0.8380194306373596)]"
      ]
     },
     "execution_count": 44,
     "metadata": {},
     "output_type": "execute_result"
    }
   ],
   "source": [
    "model.wv.most_similar(positive=[\"How\",\"is\"])"
   ]
  },
  {
   "cell_type": "code",
   "execution_count": 71,
   "metadata": {},
   "outputs": [
    {
     "name": "stdout",
     "output_type": "stream",
     "text": [
      "일반적인) 시장[장] →farmers’ market)\n"
     ]
    }
   ],
   "source": [
    "data = seperateValue(\"(일반적인) 시장[장] (→farmers’ market)\",\"(\")\n",
    "print(data)"
   ]
  },
  {
   "cell_type": "code",
   "execution_count": 70,
   "metadata": {},
   "outputs": [
    {
     "name": "stdout",
     "output_type": "stream",
     "text": [
      "일반적인 시장[장] →farmers’ market\n"
     ]
    }
   ],
   "source": [
    "data = seperateValue(data,\")\")\n",
    "print(data)"
   ]
  },
  {
   "cell_type": "code",
   "execution_count": 96,
   "metadata": {},
   "outputs": [
    {
     "name": "stdout",
     "output_type": "stream",
     "text": [
      "입력된 문자 ==>(일반적인) 시장[장] (→farmers’ market)\n",
      "일반적인 시장[장] \n"
     ]
    }
   ],
   "source": []
  },
  {
   "cell_type": "code",
   "execution_count": 115,
   "metadata": {},
   "outputs": [
    {
     "name": "stdout",
     "output_type": "stream",
     "text": [
      "어떻게 됩니까?\n"
     ]
    }
   ],
   "source": [
    "print(\"어떻게 이다\".replace(\"이다\",\"됩니까?\"))"
   ]
  }
 ],
 "metadata": {
  "kernelspec": {
   "display_name": "Python 3",
   "language": "python",
   "name": "python3"
  },
  "language_info": {
   "codemirror_mode": {
    "name": "ipython",
    "version": 3
   },
   "file_extension": ".py",
   "mimetype": "text/x-python",
   "name": "python",
   "nbconvert_exporter": "python",
   "pygments_lexer": "ipython3",
   "version": "3.8.5"
  }
 },
 "nbformat": 4,
 "nbformat_minor": 4
}
